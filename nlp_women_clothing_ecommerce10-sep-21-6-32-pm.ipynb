{
  "nbformat": 4,
  "nbformat_minor": 0,
  "metadata": {
    "colab": {
      "name": "Credit card final-1.ipynb",
      "provenance": [],
      "authorship_tag": "ABX9TyP8eq5UBGXSvSJbLqWYDh3m",
      "include_colab_link": true
    },
    "kernelspec": {
      "name": "python3",
      "display_name": "Python 3"
    },
    "language_info": {
      "name": "python"
    }
  },
  "cells": [
    {
      "cell_type": "markdown",
      "metadata": {
        "id": "view-in-github",
        "colab_type": "text"
      },
      "source": [
        "<a href=\"https://colab.research.google.com/github/lalit-kumr/text_mining_nlp/blob/main/nlp_women_clothing_ecommerce10-sep-21-6-32-pm.ipynb\" target=\"_parent\"><img src=\"https://colab.research.google.com/assets/colab-badge.svg\" alt=\"Open In Colab\"/></a>"
      ]
    },
    {
      "cell_type": "code",
      "metadata": {
        "id": "KDwfSE3c5nqj"
      },
      "source": [
        "import pandas as pd\n"
      ],
      "execution_count": 83,
      "outputs": []
    },
    {
      "cell_type": "code",
      "metadata": {
        "colab": {
          "base_uri": "https://localhost:8080/"
        },
        "id": "0MjyZ2TZSxtT",
        "outputId": "7b518736-9367-461e-ad19-47075a48b318"
      },
      "source": [
        "df = pd.read_excel('https://github.com/lalit-kumr/text_mining_nlp/blob/main/Womens%20Clothing%20Reviews%20Data.xlsx?raw=true')\n",
        "df.info()"
      ],
      "execution_count": 169,
      "outputs": [
        {
          "output_type": "stream",
          "name": "stdout",
          "text": [
            "<class 'pandas.core.frame.DataFrame'>\n",
            "RangeIndex: 23486 entries, 0 to 23485\n",
            "Data columns (total 11 columns):\n",
            " #   Column          Non-Null Count  Dtype \n",
            "---  ------          --------------  ----- \n",
            " 0   Product ID      23486 non-null  int64 \n",
            " 1   Category        23472 non-null  object\n",
            " 2   Subcategory1    23472 non-null  object\n",
            " 3   SubCategory2    23472 non-null  object\n",
            " 4   Location        23486 non-null  object\n",
            " 5   Channel         23486 non-null  object\n",
            " 6   Customer Age    23486 non-null  int64 \n",
            " 7   Review Title    19676 non-null  object\n",
            " 8   Review Text     22641 non-null  object\n",
            " 9   Rating          23486 non-null  int64 \n",
            " 10  Recommend Flag  23486 non-null  int64 \n",
            "dtypes: int64(4), object(7)\n",
            "memory usage: 2.0+ MB\n"
          ]
        }
      ]
    },
    {
      "cell_type": "markdown",
      "metadata": {
        "id": "j-Qa5-ZcYeDA"
      },
      "source": [
        "### Changing column names to lower case"
      ]
    },
    {
      "cell_type": "code",
      "metadata": {
        "id": "gMq2euGlYjXL"
      },
      "source": [
        "df.columns  = ['product_id',\n",
        "               'category',\n",
        "               'sub_cat_1',\n",
        "               'sub_cat_2',\n",
        "               'location',\n",
        "               'channel',\n",
        "               'age',\n",
        "               'review_title',\n",
        "               'review_text',\n",
        "               'rating',\n",
        "               'recommend_flag']"
      ],
      "execution_count": 170,
      "outputs": []
    },
    {
      "cell_type": "markdown",
      "metadata": {
        "id": "mVzKEaq_YA4c"
      },
      "source": [
        "### Missing value treatement"
      ]
    },
    {
      "cell_type": "code",
      "metadata": {
        "colab": {
          "base_uri": "https://localhost:8080/"
        },
        "id": "1JONwv8MXW5T",
        "outputId": "b67f66ea-6e84-4be7-df5d-f2914994d609"
      },
      "source": [
        "df.isna().sum()"
      ],
      "execution_count": 171,
      "outputs": [
        {
          "output_type": "execute_result",
          "data": {
            "text/plain": [
              "product_id           0\n",
              "category            14\n",
              "sub_cat_1           14\n",
              "sub_cat_2           14\n",
              "location             0\n",
              "channel              0\n",
              "age                  0\n",
              "review_title      3810\n",
              "review_text        845\n",
              "rating               0\n",
              "recommend_flag       0\n",
              "dtype: int64"
            ]
          },
          "metadata": {},
          "execution_count": 171
        }
      ]
    },
    {
      "cell_type": "code",
      "metadata": {
        "id": "0HLeT5keXtKF"
      },
      "source": [
        "df.dropna(inplace=True)"
      ],
      "execution_count": 172,
      "outputs": []
    },
    {
      "cell_type": "code",
      "metadata": {
        "colab": {
          "base_uri": "https://localhost:8080/"
        },
        "id": "uAArkBdpXzi1",
        "outputId": "605017af-b7a5-44d3-9e8d-6fd76a33500b"
      },
      "source": [
        "df.isna().sum()"
      ],
      "execution_count": 173,
      "outputs": [
        {
          "output_type": "execute_result",
          "data": {
            "text/plain": [
              "product_id        0\n",
              "category          0\n",
              "sub_cat_1         0\n",
              "sub_cat_2         0\n",
              "location          0\n",
              "channel           0\n",
              "age               0\n",
              "review_title      0\n",
              "review_text       0\n",
              "rating            0\n",
              "recommend_flag    0\n",
              "dtype: int64"
            ]
          },
          "metadata": {},
          "execution_count": 173
        }
      ]
    },
    {
      "cell_type": "markdown",
      "metadata": {
        "id": "9pOd27LQZIJV"
      },
      "source": [
        "## EDA"
      ]
    },
    {
      "cell_type": "markdown",
      "metadata": {
        "id": "yXWwnIGyZJ0R"
      },
      "source": [
        "### plot of count of ratings"
      ]
    },
    {
      "cell_type": "code",
      "metadata": {
        "colab": {
          "base_uri": "https://localhost:8080/",
          "height": 295
        },
        "id": "Sk6N2J-mX-21",
        "outputId": "ab654f4a-941b-4cff-a244-a58396403752"
      },
      "source": [
        "df.rating.value_counts().plot(kind='bar',figsize=(12,4),xlabel='rating')"
      ],
      "execution_count": 174,
      "outputs": [
        {
          "output_type": "execute_result",
          "data": {
            "text/plain": [
              "<matplotlib.axes._subplots.AxesSubplot at 0x7f825e014ad0>"
            ]
          },
          "metadata": {},
          "execution_count": 174
        },
        {
          "output_type": "display_data",
          "data": {
            "image/png": "[encoded data removed]",
            "text/plain": [
              "<Figure size 864x288 with 1 Axes>"
            ]
          },
          "metadata": {
            "needs_background": "light"
          }
        }
      ]
    },
    {
      "cell_type": "code",
      "metadata": {
        "colab": {
          "base_uri": "https://localhost:8080/",
          "height": 331
        },
        "id": "FLtdC8h8YYpe",
        "outputId": "6d47564a-032f-402e-c35a-44cfd4227748"
      },
      "source": [
        "df.sub_cat_1.value_counts().plot(kind='bar',figsize=(12,4),xlabel='sub_category_1')"
      ],
      "execution_count": 175,
      "outputs": [
        {
          "output_type": "execute_result",
          "data": {
            "text/plain": [
              "<matplotlib.axes._subplots.AxesSubplot at 0x7f825e00f190>"
            ]
          },
          "metadata": {},
          "execution_count": 175
        },
        {
          "output_type": "display_data",
          "data": {
            "image/png": "[encoded data removed]",
            "text/plain": [
              "<Figure size 864x288 with 1 Axes>"
            ]
          },
          "metadata": {
            "needs_background": "light"
          }
        }
      ]
    },
    {
      "cell_type": "code",
      "metadata": {
        "colab": {
          "base_uri": "https://localhost:8080/",
          "height": 367
        },
        "id": "8tq_U4Glcmo-",
        "outputId": "e6988fa9-cd66-4549-f175-ffaafd81ac6e"
      },
      "source": [
        "df.sub_cat_2.value_counts().plot(kind='bar',figsize=(12,4),xlabel='sub_category_2')"
      ],
      "execution_count": 176,
      "outputs": [
        {
          "output_type": "execute_result",
          "data": {
            "text/plain": [
              "<matplotlib.axes._subplots.AxesSubplot at 0x7f825d112450>"
            ]
          },
          "metadata": {},
          "execution_count": 176
        },
        {
          "output_type": "display_data",
          "data": {
            "image/png": "[encoded data removed]",
            "text/plain": [
              "<Figure size 864x288 with 1 Axes>"
            ]
          },
          "metadata": {
            "needs_background": "light"
          }
        }
      ]
    },
    {
      "cell_type": "code",
      "metadata": {
        "colab": {
          "base_uri": "https://localhost:8080/",
          "height": 321
        },
        "id": "2msiF0Mdc8yN",
        "outputId": "d863b24d-edf7-477d-b43b-48c315d1c29d"
      },
      "source": [
        "df.channel.value_counts().plot(kind='bar',xlabel='channel')"
      ],
      "execution_count": 177,
      "outputs": [
        {
          "output_type": "execute_result",
          "data": {
            "text/plain": [
              "<matplotlib.axes._subplots.AxesSubplot at 0x7f825d086e90>"
            ]
          },
          "metadata": {},
          "execution_count": 177
        },
        {
          "output_type": "display_data",
          "data": {
            "image/png": "[encoded data removed]",
            "text/plain": [
              "<Figure size 432x288 with 1 Axes>"
            ]
          },
          "metadata": {
            "needs_background": "light"
          }
        }
      ]
    },
    {
      "cell_type": "code",
      "metadata": {
        "colab": {
          "base_uri": "https://localhost:8080/",
          "height": 296
        },
        "id": "N_aeZNZedMkE",
        "outputId": "0f7fe03f-3e75-4f26-ead0-1a15be8bd4e1"
      },
      "source": [
        "df.recommend_flag.value_counts().plot(kind='bar',xlabel='recommend_flag')"
      ],
      "execution_count": 93,
      "outputs": [
        {
          "output_type": "execute_result",
          "data": {
            "text/plain": [
              "<matplotlib.axes._subplots.AxesSubplot at 0x7f8271b95e50>"
            ]
          },
          "metadata": {},
          "execution_count": 93
        },
        {
          "output_type": "display_data",
          "data": {
            "image/png": "[encoded data removed]",
            "text/plain": [
              "<Figure size 432x288 with 1 Axes>"
            ]
          },
          "metadata": {
            "needs_background": "light"
          }
        }
      ]
    },
    {
      "cell_type": "markdown",
      "metadata": {
        "id": "Nv5nEOx3cUw0"
      },
      "source": [
        "### plotting counts of each age group"
      ]
    },
    {
      "cell_type": "code",
      "metadata": {
        "colab": {
          "base_uri": "https://localhost:8080/",
          "height": 298
        },
        "id": "EDWt9rflcclG",
        "outputId": "dffba24f-db29-441b-8847-df06e72159d6"
      },
      "source": [
        "\n",
        "bins= [0,11,20,65,120]\n",
        "labels = ['Kid(0-10)','Teen(11-19)','Adult(20-64)','Older Adults(65+)']\n",
        "df['age_groups'] = pd.cut(df['age'], bins=bins, labels=labels, right=False)\n",
        "df.age_groups.value_counts().plot(xlabel='age group')"
      ],
      "execution_count": 94,
      "outputs": [
        {
          "output_type": "execute_result",
          "data": {
            "text/plain": [
              "<matplotlib.axes._subplots.AxesSubplot at 0x7f82714c7690>"
            ]
          },
          "metadata": {},
          "execution_count": 94
        },
        {
          "output_type": "display_data",
          "data": {
            "image/png": "[encoded data removed]",
            "text/plain": [
              "<Figure size 432x288 with 1 Axes>"
            ]
          },
          "metadata": {
            "needs_background": "light"
          }
        }
      ]
    },
    {
      "cell_type": "code",
      "metadata": {
        "colab": {
          "base_uri": "https://localhost:8080/",
          "height": 339
        },
        "id": "Qq8Vj6kIfWBM",
        "outputId": "fd25d169-0d6e-435f-e408-e13b4bf3aebe"
      },
      "source": [
        "df.location.value_counts().plot(kind='bar',xlabel='location')"
      ],
      "execution_count": 97,
      "outputs": [
        {
          "output_type": "execute_result",
          "data": {
            "text/plain": [
              "<matplotlib.axes._subplots.AxesSubplot at 0x7f82710f8710>"
            ]
          },
          "metadata": {},
          "execution_count": 97
        },
        {
          "output_type": "display_data",
          "data": {
            "image/png": "[encoded data removed]",
            "text/plain": [
              "<Figure size 432x288 with 1 Axes>"
            ]
          },
          "metadata": {
            "needs_background": "light"
          }
        }
      ]
    },
    {
      "cell_type": "markdown",
      "metadata": {
        "id": "0zMtw9t8hw7u"
      },
      "source": [
        "##Data cleaning"
      ]
    },
    {
      "cell_type": "code",
      "metadata": {
        "id": "ZcOErVtPfjbs"
      },
      "source": [
        "#changing text to lower case\n",
        "df.review_text = df.review_text.apply(lambda x: x.lower())\n",
        "df.review_title = df.review_title.apply(lambda x: x.lower())"
      ],
      "execution_count": 105,
      "outputs": []
    },
    {
      "cell_type": "code",
      "metadata": {
        "id": "ioR-KSFwhBDs"
      },
      "source": [
        "#removing special characters\n",
        "from string import punctuation\n",
        "\n",
        "punc = punctuation\n"
      ],
      "execution_count": 163,
      "outputs": []
    },
    {
      "cell_type": "code",
      "metadata": {
        "id": "0QW-0T0Ip4SV"
      },
      "source": [
        "import re\n",
        "\n",
        "def remove_punc(text):\n",
        "  text  = \"\".join([char for char in text if char not in punc])\n",
        "   \n",
        "      \n",
        "  "
      ],
      "execution_count": 164,
      "outputs": []
    },
    {
      "cell_type": "code",
      "metadata": {
        "id": "85F_fM3xwXWv"
      },
      "source": [
        "df['review_text'].apply(lambda x: remove_punc(x))"
      ],
      "execution_count": 167,
      "outputs": []
    },
    {
      "cell_type": "code",
      "metadata": {
        "id": "oMJn7hfctmpb"
      },
      "source": [
        "aa = df.review_text[3].split()"
      ],
      "execution_count": 185,
      "outputs": []
    },
    {
      "cell_type": "code",
      "metadata": {
        "id": "KuXBO_0wtmm_"
      },
      "source": [
        "aa = [char for char in aa if char not in punc]"
      ],
      "execution_count": 183,
      "outputs": []
    },
    {
      "cell_type": "code",
      "metadata": {
        "id": "DX_tXuP2tmkf",
        "outputId": "48faaaaa-e796-4a20-9c2e-c1d952e45be9",
        "colab": {
          "base_uri": "https://localhost:8080/"
        }
      },
      "source": [
        "aa"
      ],
      "execution_count": 186,
      "outputs": [
        {
          "output_type": "execute_result",
          "data": {
            "text/plain": [
              "['I',\n",
              " 'love,',\n",
              " 'love,',\n",
              " 'love',\n",
              " 'this',\n",
              " 'jumpsuit.',\n",
              " \"it's\",\n",
              " 'fun,',\n",
              " 'flirty,',\n",
              " 'and',\n",
              " 'fabulous!',\n",
              " 'every',\n",
              " 'time',\n",
              " 'i',\n",
              " 'wear',\n",
              " 'it,',\n",
              " 'i',\n",
              " 'get',\n",
              " 'nothing',\n",
              " 'but',\n",
              " 'great',\n",
              " 'compliments!']"
            ]
          },
          "metadata": {},
          "execution_count": 186
        }
      ]
    },
    {
      "cell_type": "code",
      "metadata": {
        "id": "PJoH8AF0tmh6"
      },
      "source": [
        ""
      ],
      "execution_count": null,
      "outputs": []
    }
  ]
}