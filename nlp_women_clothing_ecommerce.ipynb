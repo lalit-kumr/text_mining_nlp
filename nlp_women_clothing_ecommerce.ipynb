{
  "nbformat": 4,
  "nbformat_minor": 0,
  "metadata": {
    "colab": {
      "name": "Credit card final-1.ipynb",
      "provenance": [],
      "authorship_tag": "ABX9TyOLjkqmaDEhHWkIqNe2XrhF",
      "include_colab_link": true
    },
    "kernelspec": {
      "name": "python3",
      "display_name": "Python 3"
    },
    "language_info": {
      "name": "python"
    }
  },
  "cells": [
    {
      "cell_type": "markdown",
      "metadata": {
        "id": "view-in-github",
        "colab_type": "text"
      },
      "source": [
        "<a href=\"https://colab.research.google.com/github/lalit-kumr/text_mining_nlp/blob/main/nlp_women_clothing_ecommerce.ipynb\" target=\"_parent\"><img src=\"https://colab.research.google.com/assets/colab-badge.svg\" alt=\"Open In Colab\"/></a>"
      ]
    },
    {
      "cell_type": "code",
      "metadata": {
        "id": "KDwfSE3c5nqj"
      },
      "source": [
        "import pandas as pd\n"
      ],
      "execution_count": 2,
      "outputs": []
    },
    {
      "cell_type": "code",
      "metadata": {
        "colab": {
          "base_uri": "https://localhost:8080/"
        },
        "id": "0MjyZ2TZSxtT",
        "outputId": "11a6794e-2f33-46b7-81c8-0f4864eb3fe9"
      },
      "source": [
        "df = pd.read_excel('https://github.com/lalit-kumr/text_mining_nlp/blob/main/Womens%20Clothing%20Reviews%20Data.xlsx?raw=true')\n",
        "df.info()"
      ],
      "execution_count": 14,
      "outputs": [
        {
          "output_type": "stream",
          "name": "stdout",
          "text": [
            "<class 'pandas.core.frame.DataFrame'>\n",
            "RangeIndex: 23486 entries, 0 to 23485\n",
            "Data columns (total 11 columns):\n",
            " #   Column          Non-Null Count  Dtype \n",
            "---  ------          --------------  ----- \n",
            " 0   Product ID      23486 non-null  int64 \n",
            " 1   Category        23472 non-null  object\n",
            " 2   Subcategory1    23472 non-null  object\n",
            " 3   SubCategory2    23472 non-null  object\n",
            " 4   Location        23486 non-null  object\n",
            " 5   Channel         23486 non-null  object\n",
            " 6   Customer Age    23486 non-null  int64 \n",
            " 7   Review Title    19676 non-null  object\n",
            " 8   Review Text     22641 non-null  object\n",
            " 9   Rating          23486 non-null  int64 \n",
            " 10  Recommend Flag  23486 non-null  int64 \n",
            "dtypes: int64(4), object(7)\n",
            "memory usage: 2.0+ MB\n"
          ]
        }
      ]
    },
    {
      "cell_type": "markdown",
      "metadata": {
        "id": "mVzKEaq_YA4c"
      },
      "source": [
        "### Missing value treatement"
      ]
    },
    {
      "cell_type": "code",
      "metadata": {
        "colab": {
          "base_uri": "https://localhost:8080/"
        },
        "id": "1JONwv8MXW5T",
        "outputId": "df52bdbd-c39e-41c6-eea8-a59a3d971744"
      },
      "source": [
        "df.isna().sum()"
      ],
      "execution_count": 15,
      "outputs": [
        {
          "output_type": "execute_result",
          "data": {
            "text/plain": [
              "Product ID           0\n",
              "Category            14\n",
              "Subcategory1        14\n",
              "SubCategory2        14\n",
              "Location             0\n",
              "Channel              0\n",
              "Customer Age         0\n",
              "Review Title      3810\n",
              "Review Text        845\n",
              "Rating               0\n",
              "Recommend Flag       0\n",
              "dtype: int64"
            ]
          },
          "metadata": {},
          "execution_count": 15
        }
      ]
    },
    {
      "cell_type": "code",
      "metadata": {
        "id": "0HLeT5keXtKF"
      },
      "source": [
        "df.dropna(inplace=True)"
      ],
      "execution_count": 16,
      "outputs": []
    },
    {
      "cell_type": "code",
      "metadata": {
        "colab": {
          "base_uri": "https://localhost:8080/"
        },
        "id": "uAArkBdpXzi1",
        "outputId": "0802d846-f2bf-4b4a-f2ca-85622cfcc821"
      },
      "source": [
        "df.isna().sum()"
      ],
      "execution_count": 17,
      "outputs": [
        {
          "output_type": "execute_result",
          "data": {
            "text/plain": [
              "Product ID        0\n",
              "Category          0\n",
              "Subcategory1      0\n",
              "SubCategory2      0\n",
              "Location          0\n",
              "Channel           0\n",
              "Customer Age      0\n",
              "Review Title      0\n",
              "Review Text       0\n",
              "Rating            0\n",
              "Recommend Flag    0\n",
              "dtype: int64"
            ]
          },
          "metadata": {},
          "execution_count": 17
        }
      ]
    },
    {
      "cell_type": "code",
      "metadata": {
        "id": "Sk6N2J-mX-21"
      },
      "source": [
        ""
      ],
      "execution_count": null,
      "outputs": []
    }
  ]
}